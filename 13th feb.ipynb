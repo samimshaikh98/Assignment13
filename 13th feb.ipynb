{
 "cells": [
  {
   "cell_type": "markdown",
   "id": "42b17f31-2b5f-43c6-940f-4dd3fec336b1",
   "metadata": {},
   "source": [
    "Q1. Explain why we have to use the Exception class while creating a Custom Exception."
   ]
  },
  {
   "cell_type": "markdown",
   "id": "b681b4c9-2e8f-4482-a841-0a17108c39ac",
   "metadata": {},
   "source": [
    "In Python, all exceptions are defined as classes that inherit from the built-in Exception class. When we create a custom exception, we need to define it as a new class that inherits from Exception.\n",
    "\n",
    "The reason we need to inherit from Exception is that it provides a standardized interface and behavior for exceptions. By inheriting from Exception, our custom exception class gains all the properties and methods of the base class, including the ability to store and retrieve error messages, traceback information, and other data associated with the exception.\n",
    "\n",
    "Inheriting from Exception also ensures that our custom exception is compatible with the built-in exception handling mechanisms of Python. For example, we can catch our custom exception using a generic except block that catches all exceptions or using a more specific except block that catches only our custom exception. We can also raise our custom exception using the raise statement, just like we would with any other exception class.\n",
    "\n",
    "Therefore, to create a custom exception that follows the standard convention and can be easily used with the rest of Python's exception handling mechanisms, we need to inherit from the Exception class."
   ]
  },
  {
   "cell_type": "markdown",
   "id": "10e9727a-a160-4f6a-aa05-bcc685b5fead",
   "metadata": {},
   "source": [
    "Q2. Write a python program to print Python Exception Hierarchy."
   ]
  },
  {
   "cell_type": "code",
   "execution_count": 1,
   "id": "182b510d-d483-43bd-9349-0d7c0dcac330",
   "metadata": {},
   "outputs": [
    {
     "name": "stdout",
     "output_type": "stream",
     "text": [
      "ArithmeticError\n",
      "AssertionError\n",
      "AttributeError\n",
      "BlockingIOError\n",
      "BrokenPipeError\n",
      "BufferError\n",
      "ChildProcessError\n",
      "ConnectionAbortedError\n",
      "ConnectionError\n",
      "ConnectionRefusedError\n",
      "ConnectionResetError\n",
      "EOFError\n",
      "EnvironmentError\n",
      "FileExistsError\n",
      "FileNotFoundError\n",
      "FloatingPointError\n",
      "IOError\n",
      "ImportError\n",
      "IndentationError\n",
      "IndexError\n",
      "InterruptedError\n",
      "IsADirectoryError\n",
      "KeyError\n",
      "LookupError\n",
      "MemoryError\n",
      "ModuleNotFoundError\n",
      "NameError\n",
      "NotADirectoryError\n",
      "NotImplementedError\n",
      "OSError\n",
      "OverflowError\n",
      "PermissionError\n",
      "ProcessLookupError\n",
      "RecursionError\n",
      "ReferenceError\n",
      "RuntimeError\n",
      "SyntaxError\n",
      "SystemError\n",
      "TabError\n",
      "TimeoutError\n",
      "TypeError\n",
      "UnboundLocalError\n",
      "UnicodeDecodeError\n",
      "UnicodeEncodeError\n",
      "UnicodeError\n",
      "UnicodeTranslateError\n",
      "ValueError\n",
      "ZeroDivisionError\n"
     ]
    }
   ],
   "source": [
    "for item in dir(__builtins__):\n",
    "    if item.endswith(\"Error\"):\n",
    "        print(item)\n"
   ]
  },
  {
   "cell_type": "markdown",
   "id": "30613ed8-16ba-460b-9942-3a9b9b39ae2e",
   "metadata": {},
   "source": [
    "Q3. What errors are defined in the ArithmeticError class? Explain any two with an example."
   ]
  },
  {
   "cell_type": "markdown",
   "id": "6cb77cc8-798b-4949-9da8-609c391ad672",
   "metadata": {},
   "source": [
    "The ArithmeticError is a base class for arithmetic errors in Python, and it has several subclasses that represent specific types of arithmetic errors. Here are two examples of arithmetic errors that are defined in the ArithmeticError class:\n",
    "\n",
    "    ZeroDivisionError: This exception is raised when attempting to divide a number by zero."
   ]
  },
  {
   "cell_type": "code",
   "execution_count": 2,
   "id": "c95ac268-9b47-41c9-ba53-3aa3496d3dda",
   "metadata": {},
   "outputs": [
    {
     "name": "stdout",
     "output_type": "stream",
     "text": [
      "Error: division by zero\n"
     ]
    }
   ],
   "source": [
    "x = 10\n",
    "y = 0\n",
    "try:\n",
    "    z = x / y\n",
    "except ZeroDivisionError:\n",
    "    print(\"Error: division by zero\")\n"
   ]
  },
  {
   "cell_type": "markdown",
   "id": "92a6f020-247f-4a4f-b16b-c817daaed1ac",
   "metadata": {},
   "source": [
    "OverflowError: This exception is raised when the result of an arithmetic operation exceeds the maximum representable value for a given data type.\n",
    "\n",
    "For example:"
   ]
  },
  {
   "cell_type": "code",
   "execution_count": 6,
   "id": "66496971-f8f6-452d-9fc2-df0608d83a71",
   "metadata": {},
   "outputs": [],
   "source": [
    "x = 99999999999999999999999999999999999999999999999999999999999999999999999999999\n",
    "try:\n",
    "    y = x * x\n",
    "except OverflowError:\n",
    "    print(\"Error: value too large to represent\")\n"
   ]
  },
  {
   "cell_type": "markdown",
   "id": "e6ca69d7-df1e-42c8-8b27-4746bcc75051",
   "metadata": {},
   "source": [
    "Q4. Why LookupError class is used? Explain with an example KeyError and IndexError."
   ]
  },
  {
   "cell_type": "markdown",
   "id": "f1d9bcac-1f95-4ab9-ae48-e594650c91d4",
   "metadata": {},
   "source": [
    "The LookupError class is a base class for indexing and key lookup errors in Python. It is the base class for several subclasses that represent specific types of lookup errors, such as KeyError and IndexError."
   ]
  },
  {
   "cell_type": "raw",
   "id": "e59735c8-8015-44ef-9333-92526087bafd",
   "metadata": {},
   "source": [
    "KeyError: This exception is raised when a dictionary key is not found.\n",
    "\n",
    "For example:"
   ]
  },
  {
   "cell_type": "code",
   "execution_count": 7,
   "id": "6aaddb78-a6fe-43f8-a759-024e69f63b91",
   "metadata": {},
   "outputs": [
    {
     "name": "stdout",
     "output_type": "stream",
     "text": [
      "Error: key not found\n"
     ]
    }
   ],
   "source": [
    "my_dict = {\"key1\": 1, \"key2\": 2, \"key3\": 3}\n",
    "try:\n",
    "    value = my_dict[\"key4\"]\n",
    "except KeyError:\n",
    "    print(\"Error: key not found\")\n"
   ]
  },
  {
   "cell_type": "markdown",
   "id": "0d8c6088-f625-46fd-8ec9-f36b1094622d",
   "metadata": {},
   "source": [
    "IndexError: This exception is raised when an index is out of range.\n",
    "\n",
    "For example:"
   ]
  },
  {
   "cell_type": "code",
   "execution_count": 8,
   "id": "92579d29-e003-48c2-ba32-1dc1b9fc0bd2",
   "metadata": {},
   "outputs": [
    {
     "name": "stdout",
     "output_type": "stream",
     "text": [
      "Error: index out of range\n"
     ]
    }
   ],
   "source": [
    "my_list = [1, 2, 3]\n",
    "try:\n",
    "    value = my_list[3]\n",
    "except IndexError:\n",
    "    print(\"Error: index out of range\")\n"
   ]
  },
  {
   "cell_type": "markdown",
   "id": "9c3d0158-1591-4dac-b4f8-ba67e4e2b8ef",
   "metadata": {},
   "source": [
    "Q5. Explain ImportError. What is ModuleNotFoundError?"
   ]
  },
  {
   "cell_type": "markdown",
   "id": "7095c206-069d-4b57-bad4-117942d6f0c4",
   "metadata": {},
   "source": [
    "In Python, ImportError is a built-in exception that is raised when an imported module, package, or name cannot be found or loaded. This can occur if the module or package does not exist, if the name is misspelled or incorrect, or if there is a problem with the module or package itself.\n",
    "\n",
    "ModuleNotFoundError is a specific subclass of ImportError that was introduced in Python 3.6. It is raised when a module is not found, indicating that the named module could not be located."
   ]
  },
  {
   "cell_type": "code",
   "execution_count": 9,
   "id": "cba61e2e-7163-4c93-a84a-ed64a87c0b50",
   "metadata": {},
   "outputs": [
    {
     "name": "stdout",
     "output_type": "stream",
     "text": [
      "Could not import module\n"
     ]
    }
   ],
   "source": [
    "try:\n",
    "    import non_existent_module\n",
    "except ImportError:\n",
    "    print(\"Could not import module\")\n"
   ]
  },
  {
   "cell_type": "markdown",
   "id": "adf8bf62-c1cf-4d55-8ca7-a8543db5a700",
   "metadata": {},
   "source": [
    "Q6. List down some best practices for exception handling in python."
   ]
  },
  {
   "cell_type": "markdown",
   "id": "c2a01c9f-3a9b-4326-a682-d45726256083",
   "metadata": {},
   "source": [
    "Here are some best practices for exception handling in Python:\n",
    "\n",
    "    Be specific with exception handling: Catch only those exceptions that you can handle and let the others propagate upwards.\n",
    "\n",
    "    Use try-except-else-finally blocks: Use try to enclose the code that may raise an exception, except to catch the exceptions, else to execute the code that must run if the code in the try block does not raise an exception, and finally to execute the code that must run whether or not an exception was raised.\n",
    "\n",
    "    Provide informative error messages: Always provide descriptive and informative error messages, so that the user can understand the cause of the error and how to fix it.\n",
    "\n",
    "    Log exceptions: Always log exceptions, including the traceback, so that you can debug your code easily.\n",
    "\n",
    "    Avoid using bare except: Using bare except can hide the root cause of the exception and make debugging difficult. Instead, catch only those exceptions that you can handle.\n",
    "\n",
    "    Avoid using exceptions for flow control: Exceptions should be used to handle errors, not as a means of flow control.\n",
    "\n",
    "    Use custom exceptions: Use custom exceptions to create new exception types that are specific to your application.\n",
    "\n",
    "    Handle exceptions at the right level: Handle exceptions at the appropriate level of abstraction in your code.\n",
    "\n",
    "    Keep exception handling code separate: Keep your exception handling code separate from your core business logic.\n",
    "\n",
    "    Use context managers: Use context managers to ensure that resources are cleaned up properly, even in the event of an exception."
   ]
  }
 ],
 "metadata": {
  "kernelspec": {
   "display_name": "Python 3 (ipykernel)",
   "language": "python",
   "name": "python3"
  },
  "language_info": {
   "codemirror_mode": {
    "name": "ipython",
    "version": 3
   },
   "file_extension": ".py",
   "mimetype": "text/x-python",
   "name": "python",
   "nbconvert_exporter": "python",
   "pygments_lexer": "ipython3",
   "version": "3.10.6"
  }
 },
 "nbformat": 4,
 "nbformat_minor": 5
}
